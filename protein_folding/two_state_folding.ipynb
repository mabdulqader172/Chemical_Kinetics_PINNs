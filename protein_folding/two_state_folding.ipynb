{
 "cells": [
  {
   "cell_type": "markdown",
   "metadata": {},
   "source": [
    "# Protein Folding Application: Two State Folding\n",
    "\n",
    "The following notebook will demonstrate an application of a two state reversible kinetic model, we will use a Physics Informed Neural Network to predict how much folded protein is present given some time $t$."
   ]
  },
  {
   "cell_type": "code",
   "execution_count": null,
   "metadata": {},
   "outputs": [],
   "source": [
    "import torch\n",
    "import numpy as np\n",
    "from matplotlib import pyplot as plt\n",
    "import seaborn as sns"
   ]
  },
  {
   "cell_type": "markdown",
   "metadata": {
    "ExecuteTime": {
     "end_time": "2024-01-10T21:18:21.033535Z",
     "start_time": "2024-01-10T21:18:21.019394Z"
    },
    "collapsed": true
   },
   "source": [
    "## The Two State Model\n",
    "\n",
    "The fundamental kinetic model encapsulating the protein folding process is the two-state kinetic model. The model defines the unfolded and folded state of a protein as $U$ and $N$ respectively. Primarily applicable to single domain proteins, this model assumes reversible folding and unfolding events unaided by external factors and that no stable intermediates are present in the (un)folding process.\n",
    "\n",
    "$$\\require{mhchem} \\Large{\\ce{U <=>[\\, k_f \\,][\\, k_u \\,] N}}$$\n",
    "\n",
    "There are two main kinetic values that drive this process, the rate of folding $k_f$ and rate of unfolding $k_u$. The equlibrium constant $K_{eq}$ is the ratio of these two rates.\n",
    "\n",
    "$$\\large{K_{eq} = \\frac{k_u}{k_f}}$$\n",
    "\n",
    "$K_{eq}$ is a key value as it allows us to determine the stability of the single domain protein $\\Delta G^{UN}$ given some temperature $T$ in Kelvin.\n",
    "\n",
    "$$\\large{\\Delta G^{UN} = -RT\\ln(K_{eq})}$$\n",
    "\n",
    "The differential function that represents the change of the folded population based on the kinetic model can be defined by the following equation.\n",
    "\n",
    "$$\\large{\\frac{d[N]}{dt} = k_f[U] - k_u[N]}$$\n",
    "\n",
    "With the following mass balance law enforced where $[N]_0$ and $[U]_0$ is the initial population of folded and unfolded protein respectively. This is effectively the law of conservation (mass cannot be created nor destroyed).\n",
    "\n",
    "$$\\large{[N]_0 + [U]_0 = [N] + [U]}$$ \n",
    "\n",
    "The mass balance law allows us to use substitution to make the ODE all in terms of $N$. Meaning we only need to track the change of a single population.\n",
    "\n",
    "$$\\large{\\frac{d[N]}{dt} = k_f([N]_0 + [U]_0 - [N]) - k_u[N]}$$\n",
    "\n",
    "Tracking only the folded population is sufficient as the mass balance allows us to determine that the change in $U$ is the opposite of $N$.\n",
    "\n",
    "$$\\large{\\frac{d[N]}{dt} = -\\frac{d[U]}{dt}}$$\n",
    "\n",
    "## Solving for $[N]$\n",
    "\n",
    "The following differential equation is a linear first-order ODE which has the following general solution given the mass balance above as our boundary condition ($[N](t = 0) = [N]_0$).\n",
    "\n",
    "$$\\large{[N](t) = \\frac{k_f([N]_0 + [U]_0)}{(k_f + k_u)} + \\left([N]_0 - \\frac{k_f([N]_0 + [U]_0)}{(k_f + k_u)}\\right)e^{-(k_f + k_u)t}}$$ \n",
    "\n",
    "As $t \\rightarrow \\infty$, the function reaches the following limit which we define as $[N]_{eq}$. This is the expected folded population when equilibrium is reached.\n",
    "\n",
    "$$\\large{[N](t \\rightarrow \\infty) = [N]_{eq} = \\frac{k_f([N]_0 + [U]_0)}{(k_f + k_u)}}$$ \n",
    "\n",
    "We can finally substitute $[N]_{eq}$ to simplify the ODE solution we have above, the solution we have below will be used to generate data to train our neural networks with.\n",
    "\n",
    "$$\\large{[N](t) = [N]_{eq} + \\left([N]_0 - [N]_{eq}\\right)e^{-(k_f + k_u)t}}$$ \n",
    "\n",
    "\n",
    "## Why apply a neural network to a known ODE?\n",
    "\n",
    "The purpose is to test if we in fact can teach black box methods to predict properties that adhere to physical laws. The convenience of having a known solution to this ODE is powerful in that we can generate a dataset to train the model with and to test if NNs can in fact adhere to physical laws and constraints that we see in the real world.\n"
   ]
  }
 ],
 "metadata": {
  "kernelspec": {
   "display_name": "Python 3 (ipykernel)",
   "language": "python",
   "name": "python3"
  },
  "language_info": {
   "codemirror_mode": {
    "name": "ipython",
    "version": 3
   },
   "file_extension": ".py",
   "mimetype": "text/x-python",
   "name": "python",
   "nbconvert_exporter": "python",
   "pygments_lexer": "ipython3",
   "version": "3.9.16"
  }
 },
 "nbformat": 4,
 "nbformat_minor": 1
}
